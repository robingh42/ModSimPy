{
 "cells": [
  {
   "cell_type": "code",
   "execution_count": 0,
   "metadata": {
    "colab": {},
    "colab_type": "code",
    "id": "6RbyOwGo-y3p"
   },
   "outputs": [],
   "source": [
    "# Configure Jupyter so figures appear in the notebook\n",
    "%matplotlib inline\n",
    "\n",
    "# Configure Jupyter to display the assigned value after an assignment\n",
    "%config InteractiveShell.ast_node_interactivity='last_expr_or_assign'\n",
    "\n",
    "# import functions from the modsim.py module\n",
    "from modsim import *"
   ]
  },
  {
   "cell_type": "markdown",
   "metadata": {
    "colab_type": "text",
    "id": "IAwGm0-4_Oks"
   },
   "source": [
    "# Mars Satellite Flight:\n",
    "###What Is the minimum energy needed to launch a rocket for a Satellite to reach orbit around Mars\n",
    "By Robin Graham-Hayes and Theo Johnson\n",
    "\n",
    "links: \n",
    "https://en.wikipedia.org/wiki/McDonnell_Douglas_DC-X\n",
    "http://www.astronautix.com/d/dc-x.html\n",
    "https://en.wikipedia.org/wiki/Thrust"
   ]
  },
  {
   "cell_type": "markdown",
   "metadata": {
    "colab_type": "text",
    "id": "EnuUTQkf_Omt"
   },
   "source": []
  },
  {
   "cell_type": "code",
   "execution_count": 16,
   "metadata": {
    "colab": {},
    "colab_type": "code",
    "id": "UFsQ9HYCBkRU"
   },
   "outputs": [
    {
     "name": "stdout",
     "output_type": "stream",
     "text": [
      "[0.07974522 0.99681528] dimensionless\n"
     ]
    },
    {
     "data": {
      "text/html": [
       "<div>\n",
       "<style scoped>\n",
       "    .dataframe tbody tr th:only-of-type {\n",
       "        vertical-align: middle;\n",
       "    }\n",
       "\n",
       "    .dataframe tbody tr th {\n",
       "        vertical-align: top;\n",
       "    }\n",
       "\n",
       "    .dataframe thead th {\n",
       "        text-align: right;\n",
       "    }\n",
       "</style>\n",
       "<table border=\"1\" class=\"dataframe\">\n",
       "  <thead>\n",
       "    <tr style=\"text-align: right;\">\n",
       "      <th></th>\n",
       "      <th>values</th>\n",
       "    </tr>\n",
       "  </thead>\n",
       "  <tbody>\n",
       "    <tr>\n",
       "      <th>init</th>\n",
       "      <td>force_grav                                    ...</td>\n",
       "    </tr>\n",
       "    <tr>\n",
       "      <th>mars_mass</th>\n",
       "      <td>6.39e+23</td>\n",
       "    </tr>\n",
       "    <tr>\n",
       "      <th>mass_rocket</th>\n",
       "      <td>18900</td>\n",
       "    </tr>\n",
       "    <tr>\n",
       "      <th>g_0_mars</th>\n",
       "      <td>3.711</td>\n",
       "    </tr>\n",
       "    <tr>\n",
       "      <th>C_d</th>\n",
       "      <td>0.5</td>\n",
       "    </tr>\n",
       "  </tbody>\n",
       "</table>\n",
       "</div>"
      ],
      "text/plain": [
       "init           force_grav                                    ...\n",
       "mars_mass                                               6.39e+23\n",
       "mass_rocket                                                18900\n",
       "g_0_mars                                                   3.711\n",
       "C_d                                                          0.5\n",
       "dtype: object"
      ]
     },
     "execution_count": 16,
     "metadata": {},
     "output_type": "execute_result"
    }
   ],
   "source": [
    "init = State(\n",
    "    force_grav= 3.711 ,#m/s^2\n",
    "    \n",
    "    x=0,\n",
    "    y=3389000, #m,\n",
    "    vx=0 ,\n",
    "    vy=0 ,\n",
    "    thrust=Vector(8,100).hat()*100\n",
    " \n",
    "    )   \n",
    "\n",
    "print(init.thrust.hat())\n",
    "\n",
    "system = System(\n",
    "    init=init,   \n",
    "    mars_mass= 6.39 * 10**23, #kg\n",
    "    mass_rocket=18900, #kilograms\n",
    "    g_0_mars= 3.711, #m/s^2\n",
    "    C_d= .5    \n",
    "\n",
    "\n",
    "    )\n",
    "\n"
   ]
  },
  {
   "cell_type": "code",
   "execution_count": 0,
   "metadata": {
    "colab": {},
    "colab_type": "code",
    "id": "90ByyRnR7S6c"
   },
   "outputs": [],
   "source": []
  },
  {
   "cell_type": "code",
   "execution_count": 0,
   "metadata": {
    "colab": {},
    "colab_type": "code",
    "id": "o8iYaZfzBkcv"
   },
   "outputs": [],
   "source": [
    "def drag_force(V, system):\n",
    "  \n",
    "    unpack(system)\n",
    "    mag = -pressure(V,system) * V.mag**2 * C_d * area / 2\n",
    "    direction = V.hat()\n",
    "    f_drag = mag * direction\n",
    "    return f_drag"
   ]
  },
  {
   "cell_type": "code",
   "execution_count": 0,
   "metadata": {
    "colab": {},
    "colab_type": "code",
    "id": "FILjauJlBkhH"
   },
   "outputs": [],
   "source": [
    "def universal_gravitation(state, system):\n",
    "    \"\"\"Computes gravitational force.\n",
    "    \n",
    "    state: State object with distance r\n",
    "    system: System object with m1, m2, and G\n",
    "    \"\"\"\n",
    "    x, y, vx, vy = state\n",
    "    unpack(system)\n",
    "    \n",
    "    v = Vector(vx,vy)\n",
    "    d = Vector(x,y)\n",
    "   \n",
    "    force_mag = G * m1 * m2 / d.mag**2\n",
    "    \n",
    "    force = d.hat() * force_mag\n",
    "    \n",
    "    return force\n",
    "  "
   ]
  },
  {
   "cell_type": "code",
   "execution_count": 0,
   "metadata": {
    "colab": {},
    "colab_type": "code",
    "id": "oiID7OM-Po0U"
   },
   "outputs": [],
   "source": [
    "def external_force(V,system):\n",
    "  unpack(system)\n",
    "  f_ext = drag_force(V, system) + universal_gravitation(V,system)\n",
    "  return f_ext"
   ]
  },
  {
   "cell_type": "code",
   "execution_count": 0,
   "metadata": {
    "colab": {},
    "colab_type": "code",
    "id": "UPhO_wJ4BklA"
   },
   "outputs": [],
   "source": [
    "def pressure(V,system):\n",
    "  unpack(system)\n",
    "  p=.699*exp(-.00009*y)\n",
    "  return p"
   ]
  },
  {
   "cell_type": "code",
   "execution_count": 0,
   "metadata": {
    "colab": {},
    "colab_type": "code",
    "id": "JgyRJ1f1BkoV"
   },
   "outputs": [],
   "source": [
    "def slope_func(state, t, system):\n",
    "    \"\"\"Computes derivatives of the state variables.\n",
    "    \n",
    "    state: State (x, y, x velocity, y velocity)\n",
    "    t: time\n",
    "    system: System object with g, rho, C_d, area, mass\n",
    "    \n",
    "    returns: sequence (vx, vy, ax, ay)\n",
    "    \"\"\"\n",
    "    x, y, vx, vy = state\n",
    "    unpack(system)\n",
    "\n",
    "    V = Vector(vx, vy)    \n",
    "    a_drag = drag_force(V, system) / mass\n",
    "    a_grav = -universal_gravitation(state, system)\n",
    "    a_rocket = Vector(thrust.x, thrust.y).mag /mass\n",
    "    \n",
    "    a = a_grav + a_drag + a_rocket\n",
    "    \n",
    "    return vx, vy, a.x, a.y"
   ]
  },
  {
   "cell_type": "code",
   "execution_count": 0,
   "metadata": {
    "colab": {},
    "colab_type": "code",
    "id": "FuSQDF60Bkr5"
   },
   "outputs": [],
   "source": [
    "\n",
    "def event_func(state, t, system):\n",
    "    x, y, vx, vy = state\n",
    "    r= Vector(x,y)\n",
    "    return  system.r_final\n",
    "  \n",
    "  results1, details1 = run_ode_solver(system, slope_func,\n",
    "                                    events=event_func1, max_step=0.1*s)\n",
    "details1\n",
    "  "
   ]
  },
  {
   "cell_type": "code",
   "execution_count": 0,
   "metadata": {
    "colab": {
     "base_uri": "https://localhost:8080/",
     "height": 35
    },
    "colab_type": "code",
    "id": "9EKFrlCABkvR",
    "outputId": "fa630df7-ba86-4801-80dc-58eb20c706ad"
   },
   "outputs": [
    {
     "data": {
      "text/plain": [
       "-17.097619047619048"
      ]
     },
     "execution_count": 20,
     "metadata": {
      "tags": []
     },
     "output_type": "execute_result"
    }
   ],
   "source": []
  },
  {
   "cell_type": "code",
   "execution_count": 0,
   "metadata": {
    "colab": {
     "base_uri": "https://localhost:8080/",
     "height": 513
    },
    "colab_type": "code",
    "id": "RsQJnqfZBkyg",
    "outputId": "24d8736f-4150-4876-eb40-de5ff8c3f426"
   },
   "outputs": [
    {
     "ename": "NameError",
     "evalue": "ignored",
     "output_type": "error",
     "traceback": [
      "\u001b[0;31m---------------------------------------------------------------------------\u001b[0m",
      "\u001b[0;31mNameError\u001b[0m                                 Traceback (most recent call last)",
      "\u001b[0;32m<ipython-input-21-9b803966069d>\u001b[0m in \u001b[0;36m<module>\u001b[0;34m()\u001b[0m\n\u001b[0;32m----> 1\u001b[0;31m \u001b[0mupdate\u001b[0m\u001b[0;34m(\u001b[0m\u001b[0;36m20000\u001b[0m\u001b[0;34m,\u001b[0m\u001b[0msystem\u001b[0m\u001b[0;34m)\u001b[0m\u001b[0;34m\u001b[0m\u001b[0;34m\u001b[0m\u001b[0m\n\u001b[0m",
      "\u001b[0;32m<ipython-input-19-19e44b5c7df9>\u001b[0m in \u001b[0;36mupdate\u001b[0;34m(V, system)\u001b[0m\n\u001b[1;32m      1\u001b[0m \u001b[0;32mdef\u001b[0m \u001b[0mupdate\u001b[0m\u001b[0;34m(\u001b[0m\u001b[0mV\u001b[0m\u001b[0;34m,\u001b[0m\u001b[0msystem\u001b[0m\u001b[0;34m)\u001b[0m\u001b[0;34m:\u001b[0m\u001b[0;34m\u001b[0m\u001b[0;34m\u001b[0m\u001b[0m\n\u001b[1;32m      2\u001b[0m   \u001b[0munpack\u001b[0m\u001b[0;34m(\u001b[0m\u001b[0msystem\u001b[0m\u001b[0;34m)\u001b[0m\u001b[0;34m\u001b[0m\u001b[0;34m\u001b[0m\u001b[0m\n\u001b[0;32m----> 3\u001b[0;31m   \u001b[0;32mreturn\u001b[0m \u001b[0mmass_full\u001b[0m\u001b[0;34m*\u001b[0m\u001b[0macceleration\u001b[0m\u001b[0;34m(\u001b[0m\u001b[0mV\u001b[0m\u001b[0;34m,\u001b[0m\u001b[0msystem\u001b[0m\u001b[0;34m)\u001b[0m\u001b[0;34m+\u001b[0m\u001b[0mexternal_force\u001b[0m\u001b[0;34m(\u001b[0m\u001b[0mV\u001b[0m\u001b[0;34m,\u001b[0m\u001b[0msystem\u001b[0m\u001b[0;34m)\u001b[0m\u001b[0;34m\u001b[0m\u001b[0;34m\u001b[0m\u001b[0m\n\u001b[0m\u001b[1;32m      4\u001b[0m \u001b[0;34m\u001b[0m\u001b[0m\n\u001b[1;32m      5\u001b[0m \u001b[0;34m\u001b[0m\u001b[0m\n",
      "\u001b[0;32m<ipython-input-17-3a2d4b298e0a>\u001b[0m in \u001b[0;36mexternal_force\u001b[0;34m(V, system)\u001b[0m\n\u001b[1;32m      1\u001b[0m \u001b[0;32mdef\u001b[0m \u001b[0mexternal_force\u001b[0m\u001b[0;34m(\u001b[0m\u001b[0mV\u001b[0m\u001b[0;34m,\u001b[0m\u001b[0msystem\u001b[0m\u001b[0;34m)\u001b[0m\u001b[0;34m:\u001b[0m\u001b[0;34m\u001b[0m\u001b[0;34m\u001b[0m\u001b[0m\n\u001b[1;32m      2\u001b[0m   \u001b[0munpack\u001b[0m\u001b[0;34m(\u001b[0m\u001b[0msystem\u001b[0m\u001b[0;34m)\u001b[0m\u001b[0;34m\u001b[0m\u001b[0;34m\u001b[0m\u001b[0m\n\u001b[0;32m----> 3\u001b[0;31m   \u001b[0mf_ext\u001b[0m \u001b[0;34m=\u001b[0m \u001b[0mdrag_force\u001b[0m\u001b[0;34m(\u001b[0m\u001b[0mV\u001b[0m\u001b[0;34m,\u001b[0m \u001b[0msystem\u001b[0m\u001b[0;34m)\u001b[0m \u001b[0;34m+\u001b[0m \u001b[0mgravity_force\u001b[0m\u001b[0;34m(\u001b[0m\u001b[0mV\u001b[0m\u001b[0;34m,\u001b[0m\u001b[0msystem\u001b[0m\u001b[0;34m)\u001b[0m\u001b[0;34m\u001b[0m\u001b[0;34m\u001b[0m\u001b[0m\n\u001b[0m\u001b[1;32m      4\u001b[0m   \u001b[0;32mreturn\u001b[0m \u001b[0mf_ext\u001b[0m\u001b[0;34m\u001b[0m\u001b[0;34m\u001b[0m\u001b[0m\n",
      "\u001b[0;32m<ipython-input-5-fc5861a8ad31>\u001b[0m in \u001b[0;36mdrag_force\u001b[0;34m(V, system)\u001b[0m\n\u001b[1;32m      8\u001b[0m     \"\"\"\n\u001b[1;32m      9\u001b[0m     \u001b[0munpack\u001b[0m\u001b[0;34m(\u001b[0m\u001b[0msystem\u001b[0m\u001b[0;34m)\u001b[0m\u001b[0;34m\u001b[0m\u001b[0;34m\u001b[0m\u001b[0m\n\u001b[0;32m---> 10\u001b[0;31m     \u001b[0mmag\u001b[0m \u001b[0;34m=\u001b[0m \u001b[0;34m-\u001b[0m\u001b[0mrho\u001b[0m \u001b[0;34m*\u001b[0m \u001b[0mV\u001b[0m\u001b[0;34m.\u001b[0m\u001b[0mmag\u001b[0m\u001b[0;34m**\u001b[0m\u001b[0;36m2\u001b[0m \u001b[0;34m*\u001b[0m \u001b[0mC_d\u001b[0m \u001b[0;34m*\u001b[0m \u001b[0marea\u001b[0m \u001b[0;34m/\u001b[0m \u001b[0;36m2\u001b[0m\u001b[0;34m\u001b[0m\u001b[0;34m\u001b[0m\u001b[0m\n\u001b[0m\u001b[1;32m     11\u001b[0m     \u001b[0mdirection\u001b[0m \u001b[0;34m=\u001b[0m \u001b[0mV\u001b[0m\u001b[0;34m.\u001b[0m\u001b[0mhat\u001b[0m\u001b[0;34m(\u001b[0m\u001b[0;34m)\u001b[0m\u001b[0;34m\u001b[0m\u001b[0;34m\u001b[0m\u001b[0m\n\u001b[1;32m     12\u001b[0m     \u001b[0mf_drag\u001b[0m \u001b[0;34m=\u001b[0m \u001b[0mmag\u001b[0m \u001b[0;34m*\u001b[0m \u001b[0mdirection\u001b[0m\u001b[0;34m\u001b[0m\u001b[0;34m\u001b[0m\u001b[0m\n",
      "\u001b[0;31mNameError\u001b[0m: name 'rho' is not defined"
     ]
    }
   ],
   "source": []
  },
  {
   "cell_type": "code",
   "execution_count": 0,
   "metadata": {
    "colab": {},
    "colab_type": "code",
    "id": "C3O8p1srBk2c"
   },
   "outputs": [],
   "source": []
  },
  {
   "cell_type": "code",
   "execution_count": 0,
   "metadata": {
    "colab": {},
    "colab_type": "code",
    "id": "NYdm98WsBk4_"
   },
   "outputs": [],
   "source": []
  },
  {
   "cell_type": "code",
   "execution_count": 0,
   "metadata": {
    "colab": {
     "base_uri": "https://localhost:8080/",
     "height": 343
    },
    "colab_type": "code",
    "id": "HN0DV6qy_TCw",
    "outputId": "e21702d6-4ca5-45e2-9d5a-ca0f4a7d9967"
   },
   "outputs": [
    {
     "name": "stdout",
     "output_type": "stream",
     "text": [
      "Requirement already satisfied: pandas in /usr/local/lib/python3.6/dist-packages (0.22.0)\n",
      "Requirement already satisfied: seaborn in /usr/local/lib/python3.6/dist-packages (0.7.1)\n",
      "Requirement already satisfied: sympy in /usr/local/lib/python3.6/dist-packages (1.1.1)\n",
      "Requirement already satisfied: beautifulsoup4 in /usr/local/lib/python3.6/dist-packages (4.6.3)\n",
      "Requirement already satisfied: lxml in /usr/local/lib/python3.6/dist-packages (4.2.5)\n",
      "Requirement already satisfied: pint in /usr/local/lib/python3.6/dist-packages (0.8.1)\n",
      "Requirement already satisfied: scipy==1.1.0 in /usr/local/lib/python3.6/dist-packages (1.1.0)\n",
      "Requirement already satisfied: numpy in /usr/local/lib/python3.6/dist-packages (1.14.6)\n",
      "Requirement already satisfied: python-dateutil>=2 in /usr/local/lib/python3.6/dist-packages (from pandas) (2.5.3)\n",
      "Requirement already satisfied: pytz>=2011k in /usr/local/lib/python3.6/dist-packages (from pandas) (2018.7)\n",
      "Requirement already satisfied: mpmath>=0.19 in /usr/local/lib/python3.6/dist-packages (from sympy) (1.0.0)\n",
      "Requirement already satisfied: six>=1.5 in /usr/local/lib/python3.6/dist-packages (from python-dateutil>=2->pandas) (1.11.0)\n",
      "Cloning into 'ModSimPy'...\n",
      "remote: Enumerating objects: 1834, done.\u001b[K\n",
      "remote: Total 1834 (delta 0), reused 0 (delta 0), pack-reused 1834\u001b[K\n",
      "Receiving objects: 100% (1834/1834), 56.74 MiB | 27.16 MiB/s, done.\n",
      "Resolving deltas: 100% (1207/1207), done.\n"
     ]
    }
   ],
   "source": [
    "# Imports\n",
    "from IPython.display import clear_output\n",
    "import os\n",
    "import time\n",
    "\n",
    "# Install Python libraries\n",
    "!pip3 install pandas seaborn sympy beautifulsoup4 lxml pint scipy==1.1.0 numpy\n",
    "\n",
    "# Removes code before re-downloading it\n",
    "!rm -rf ./ModSimPy\n",
    "!rm -rf ./modsim.py\n",
    "\n",
    "# Grabs ModSimPy\n",
    "!git clone https://github.com/AllenDowney/ModSimPy.git\n",
    "!cp \"ModSimPy/code/modsim.py\" .\n",
    "\n",
    "# Resets kernel to flush outdated libraries (especially SciPy)\n",
    "clear_output()\n",
    "print(\"Configured for ModSimPy. Restarting kernel.\")\n",
    "time.sleep(1)\n",
    "os._exit(0)"
   ]
  },
  {
   "cell_type": "code",
   "execution_count": 0,
   "metadata": {
    "colab": {},
    "colab_type": "code",
    "id": "fT-YqPw0bxgC"
   },
   "outputs": [],
   "source": []
  }
 ],
 "metadata": {
  "colab": {
   "collapsed_sections": [],
   "name": "Project3.ipynb",
   "provenance": [],
   "version": "0.3.2"
  },
  "kernelspec": {
   "display_name": "Python 3",
   "language": "python",
   "name": "python3"
  },
  "language_info": {
   "codemirror_mode": {
    "name": "ipython",
    "version": 3
   },
   "file_extension": ".py",
   "mimetype": "text/x-python",
   "name": "python",
   "nbconvert_exporter": "python",
   "pygments_lexer": "ipython3",
   "version": "3.6.6"
  }
 },
 "nbformat": 4,
 "nbformat_minor": 1
}
