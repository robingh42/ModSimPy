{
  "nbformat": 4,
  "nbformat_minor": 0,
  "metadata": {
    "colab": {
      "name": "Project3.ipynb",
      "version": "0.3.2",
      "provenance": [],
      "collapsed_sections": []
    },
    "kernelspec": {
      "name": "python3",
      "display_name": "Python 3"
    }
  },
  "cells": [
    {
      "metadata": {
        "id": "6RbyOwGo-y3p",
        "colab_type": "code",
        "outputId": "f48c652d-f98d-407b-b238-94480793d4b3",
        "colab": {
          "base_uri": "https://localhost:8080/",
          "height": 55
        }
      },
      "cell_type": "code",
      "source": [
        "# Configure Jupyter so figures appear in the notebook\n",
        "%matplotlib inline\n",
        "\n",
        "# Configure Jupyter to display the assigned value after an assignment\n",
        "%config InteractiveShell.ast_node_interactivity='last_expr_or_assign'\n",
        "\n",
        "# import functions from the modsim.py module\n",
        "from modsim import *"
      ],
      "execution_count": 4,
      "outputs": [
        {
          "output_type": "stream",
          "text": [
            "ERROR:root:The 'ast_node_interactivity' trait of a Shell instance must be any of ['all', 'last', 'last_expr', 'none'], but a value of 'last_expr_or_assign' <class 'str'> was specified.\n"
          ],
          "name": "stderr"
        }
      ]
    },
    {
      "metadata": {
        "id": "IAwGm0-4_Oks",
        "colab_type": "text"
      },
      "cell_type": "markdown",
      "source": [
        "# Mars Satellite Flight:\n",
        "###What Is the minimum energy needed to launch a rocket for a Satellite to reach orbit around Mars\n",
        "By Robin Graham-Hayes and Theo Johnson\n",
        "\n",
        "links: \n",
        "https://en.wikipedia.org/wiki/McDonnell_Douglas_DC-X\n",
        "http://www.astronautix.com/d/dc-x.html\n",
        "https://en.wikipedia.org/wiki/Thrust"
      ]
    },
    {
      "metadata": {
        "id": "EnuUTQkf_Omt",
        "colab_type": "text"
      },
      "cell_type": "markdown",
      "source": [
        "Situation:\n",
        "\n",
        "In the future, it is possible that space missions will be launched from Mars. Not only is this more convenient because it is further into the solar system than Earth, it also has a smaller gravity field. This could lead to the emergence of one-stage rockets, namely ion rockets, as they require less energy to launch.\n",
        "\n",
        "Question:\n",
        "\n",
        "This presented us with the question: What launch conditions for an ion rocket on Mars requires the minimum amount of energy to result in an orbit around Mars.\n",
        "\n",
        "Method:\n",
        "\n",
        "A rocket would require the least energy when it uses the least amount of thrust. To find where the rocket needs the lowest thrust, we decided to sweep the launch angle and thrust in order to find what scenario produces an orbiting rocket with the lowest thrust.\n"
      ]
    },
    {
      "metadata": {
        "id": "cYTkmh0Ms1zf",
        "colab_type": "text"
      },
      "cell_type": "markdown",
      "source": [
        "Creating our Model:\n",
        "\n",
        "First, we started my making our system and state. For our state, we started with the rocket stationary on the surface of Mars meaning our velocities and x were 0 and our y was 3389000 meters, the radius of Mars. This also made our gravitational force equivalent to the gravitational constant of Mars. Our system included the mass of the rocket, obtained from the Wikipedia page on the McDonnell Douglas DC-X, an one-stage rocket. It also includes the mass of Mars, the gravitational constant on Mars, and the C_d value of the rocket."
      ]
    },
    {
      "metadata": {
        "id": "UFsQ9HYCBkRU",
        "colab_type": "code",
        "colab": {}
      },
      "cell_type": "code",
      "source": [
        "init = State(\n",
        "    x=0,\n",
        "    y=3389500, #m,\n",
        "    vx=0,\n",
        "    vy=0,\n",
        "\n",
        ")   \n",
        "\n",
        "\n"
      ],
      "execution_count": 0,
      "outputs": []
    },
    {
      "metadata": {
        "id": "90ByyRnR7S6c",
        "colab_type": "code",
        "colab": {}
      },
      "cell_type": "code",
      "source": [
        "system = System(\n",
        "    init=init,   \n",
        "    mars_mass= 6.39E23, #kg\n",
        "    mass_rocket=18900, #kilograms\n",
        "    area=np.pi * (4.1/2)**2,\n",
        "    C_d= .5,\n",
        "    G=6.674E-11,\n",
        "    t_0 = 0,\n",
        "    t_end=2400,\n",
        "    thrust_hat=Vector(1,100).hat(),\n",
        "    thrust=Vector(1,100).hat()*1000000\n",
        "    )"
      ],
      "execution_count": 0,
      "outputs": []
    },
    {
      "metadata": {
        "id": "TeSKLOBrwphu",
        "colab_type": "text"
      },
      "cell_type": "markdown",
      "source": [
        "For our drag force function, we used the same equation as we did in our notebook. It takes in the atmospheric pressure, the velocity, the C_d, and the area and returns the force from drag which is used later to calculate the total external force on the rocket."
      ]
    },
    {
      "metadata": {
        "id": "o8iYaZfzBkcv",
        "colab_type": "code",
        "colab": {}
      },
      "cell_type": "code",
      "source": [
        "def drag_force(state, V, system):\n",
        "  \n",
        "    unpack(system)\n",
        "    mag = -pressure(state,system) * V.mag**2 * C_d * area / 2\n",
        "    direction = V.hat()\n",
        "    f_drag = mag * direction\n",
        "    return f_drag"
      ],
      "execution_count": 0,
      "outputs": []
    },
    {
      "metadata": {
        "id": "kRZoAoZFx_Il",
        "colab_type": "text"
      },
      "cell_type": "markdown",
      "source": [
        "To find our gravitational force, we used the universal_gravitation function from our orbital mechanics notebook, replacing the sun with Mars and Earth with the rocket. This returns a force which is used to find the total external force on the rocket."
      ]
    },
    {
      "metadata": {
        "id": "FILjauJlBkhH",
        "colab_type": "code",
        "colab": {}
      },
      "cell_type": "code",
      "source": [
        "def universal_gravitation(state, system):\n",
        "    \"\"\"Computes gravitational force.\n",
        "    \n",
        "    state: State object with distance r\n",
        "    system: System object with m1, m2, and G\n",
        "    \"\"\"\n",
        "    x, y, vx, vy= state\n",
        "    unpack(system)\n",
        "    \n",
        "    v = Vector(vx,vy)\n",
        "    d = Vector(x,y)\n",
        "   \n",
        "    force_mag = G * mass_rocket * mars_mass / (d.mag)**2\n",
        "    \n",
        "    force = d.hat() * force_mag\n",
        "    \n",
        "    return force"
      ],
      "execution_count": 0,
      "outputs": []
    },
    {
      "metadata": {
        "id": "_aHIS7Zp0ELt",
        "colab_type": "text"
      },
      "cell_type": "markdown",
      "source": [
        "Our pressure function updates pressure according to the Mars atmospheric pressure equation found on NASA's website. It takes in the rocket's distance from the center of Mars and returns the pressure at that height."
      ]
    },
    {
      "metadata": {
        "id": "UPhO_wJ4BklA",
        "colab_type": "code",
        "colab": {}
      },
      "cell_type": "code",
      "source": [
        "def pressure(state,system):\n",
        "  x, y, vx, vy= state\n",
        "  unpack(system)\n",
        "  d = Vector(x,y)\n",
        "  p=.699*exp(-.00009*d.mag)\n",
        "  return p"
      ],
      "execution_count": 0,
      "outputs": []
    },
    {
      "metadata": {
        "id": "JgyRJ1f1BkoV",
        "colab_type": "code",
        "colab": {}
      },
      "cell_type": "code",
      "source": [
        "def slope_func(state, t, system):\n",
        "    \"\"\"Computes derivatives of the state variables.\n",
        "    \n",
        "    state: State (x, y, x velocity, y velocity)\n",
        "    t: time\n",
        "    system: System object with g, rho, C_d, area, mass\n",
        "    \n",
        "    returns: sequence (vx, vy, ax, ay)\n",
        "    \"\"\"\n",
        "    x, y, vx, vy = state\n",
        "    unpack(system)\n",
        "\n",
        "    V = Vector(vx, vy)    \n",
        "    a_drag = drag_force(state, V, system) / mass_rocket\n",
        "    a_grav = -universal_gravitation(state, system)\n",
        "    a_rocket = Vector(system.thrust.x, system.thrust.y).mag / mass_rocket\n",
        "    \n",
        "    a = a_grav + a_drag + a_rocket\n",
        "    \n",
        "    return vx, vy, a.x, a.y"
      ],
      "execution_count": 0,
      "outputs": []
    },
    {
      "metadata": {
        "id": "F04inXGV0yU6",
        "colab_type": "text"
      },
      "cell_type": "markdown",
      "source": [
        "Our event function causes a stop when the rocket is perpendicular to Mars, this is when the rocket would be in position to cut off thrust and be in orbit. "
      ]
    },
    {
      "metadata": {
        "id": "FuSQDF60Bkr5",
        "colab_type": "code",
        "colab": {}
      },
      "cell_type": "code",
      "source": [
        "\n",
        "def event_func(state, t, system):\n",
        "    unpack(system)\n",
        "    x, y, vx, vy= state\n",
        "    \n",
        "    V=Vector(vx,vy)\n",
        "    \n",
        "    return V.angle - (((pi/2)-1.4909663410826592) + universal_gravitation(state, system).angle)"
      ],
      "execution_count": 0,
      "outputs": []
    },
    {
      "metadata": {
        "id": "9EKFrlCABkvR",
        "colab_type": "code",
        "outputId": "b987fbc5-46cd-42cd-84f4-f268062ef8c4",
        "colab": {
          "base_uri": "https://localhost:8080/",
          "height": 87
        }
      },
      "cell_type": "code",
      "source": [
        "event_func(init, 0, system)\n",
        "slope_func(init, 0, system)"
      ],
      "execution_count": 27,
      "outputs": [
        {
          "output_type": "execute_result",
          "data": {
            "text/plain": [
              "(0,\n",
              " 0,\n",
              " <Quantity(52.91005291005292, 'dimensionless')>,\n",
              " <Quantity(-70105.1526417253, 'dimensionless')>)"
            ]
          },
          "metadata": {
            "tags": []
          },
          "execution_count": 27
        }
      ]
    },
    {
      "metadata": {
        "id": "RsQJnqfZBkyg",
        "colab_type": "code",
        "outputId": "62000b53-e484-41d3-e9c2-36e0a750ad11",
        "colab": {
          "base_uri": "https://localhost:8080/",
          "height": 1949
        }
      },
      "cell_type": "code",
      "source": [
        "  \n",
        "results1, details1 = run_ode_solver(system, slope_func, events=event_func, method='RK45')\n",
        "results1"
      ],
      "execution_count": 28,
      "outputs": [
        {
          "output_type": "execute_result",
          "data": {
            "text/html": [
              "<div>\n",
              "<style scoped>\n",
              "    .dataframe tbody tr th:only-of-type {\n",
              "        vertical-align: middle;\n",
              "    }\n",
              "\n",
              "    .dataframe tbody tr th {\n",
              "        vertical-align: top;\n",
              "    }\n",
              "\n",
              "    .dataframe thead th {\n",
              "        text-align: right;\n",
              "    }\n",
              "</style>\n",
              "<table border=\"1\" class=\"dataframe\">\n",
              "  <thead>\n",
              "    <tr style=\"text-align: right;\">\n",
              "      <th></th>\n",
              "      <th>x</th>\n",
              "      <th>y</th>\n",
              "      <th>vx</th>\n",
              "      <th>vy</th>\n",
              "    </tr>\n",
              "  </thead>\n",
              "  <tbody>\n",
              "    <tr>\n",
              "      <th>0.000000e+00</th>\n",
              "      <td>0.000000e+00</td>\n",
              "      <td>3.389500e+06</td>\n",
              "      <td>0.000000e+00</td>\n",
              "      <td>0.000000e+00</td>\n",
              "    </tr>\n",
              "    <tr>\n",
              "      <th>1.426428e-08</th>\n",
              "      <td>5.382798e-15</td>\n",
              "      <td>3.389500e+06</td>\n",
              "      <td>7.547240e-07</td>\n",
              "      <td>-9.999997e-04</td>\n",
              "    </tr>\n",
              "    <tr>\n",
              "      <th>1.569071e-07</th>\n",
              "      <td>6.513185e-13</td>\n",
              "      <td>3.389500e+06</td>\n",
              "      <td>8.301963e-06</td>\n",
              "      <td>-1.100000e-02</td>\n",
              "    </tr>\n",
              "    <tr>\n",
              "      <th>1.583335e-06</th>\n",
              "      <td>6.632145e-11</td>\n",
              "      <td>3.389500e+06</td>\n",
              "      <td>8.377436e-05</td>\n",
              "      <td>-1.110000e-01</td>\n",
              "    </tr>\n",
              "    <tr>\n",
              "      <th>1.584762e-05</th>\n",
              "      <td>6.644100e-09</td>\n",
              "      <td>3.389500e+06</td>\n",
              "      <td>8.384983e-04</td>\n",
              "      <td>-1.111000e+00</td>\n",
              "    </tr>\n",
              "    <tr>\n",
              "      <th>1.584904e-04</th>\n",
              "      <td>6.645297e-07</td>\n",
              "      <td>3.389500e+06</td>\n",
              "      <td>8.385738e-03</td>\n",
              "      <td>-1.111100e+01</td>\n",
              "    </tr>\n",
              "    <tr>\n",
              "      <th>1.584919e-03</th>\n",
              "      <td>6.645416e-05</td>\n",
              "      <td>3.389500e+06</td>\n",
              "      <td>8.385813e-02</td>\n",
              "      <td>-1.111110e+02</td>\n",
              "    </tr>\n",
              "    <tr>\n",
              "      <th>1.584920e-02</th>\n",
              "      <td>6.645425e-03</td>\n",
              "      <td>3.389491e+06</td>\n",
              "      <td>8.385814e-01</td>\n",
              "      <td>-1.111113e+03</td>\n",
              "    </tr>\n",
              "    <tr>\n",
              "      <th>1.584920e-01</th>\n",
              "      <td>6.645141e-01</td>\n",
              "      <td>3.388619e+06</td>\n",
              "      <td>8.385095e+00</td>\n",
              "      <td>-1.111303e+04</td>\n",
              "    </tr>\n",
              "    <tr>\n",
              "      <th>1.584920e+00</th>\n",
              "      <td>6.615763e+01</td>\n",
              "      <td>3.300671e+06</td>\n",
              "      <td>8.309806e+01</td>\n",
              "      <td>-1.130937e+05</td>\n",
              "    </tr>\n",
              "    <tr>\n",
              "      <th>5.564448e+00</th>\n",
              "      <td>7.496711e+02</td>\n",
              "      <td>2.148223e+06</td>\n",
              "      <td>2.281673e+02</td>\n",
              "      <td>-5.242154e+05</td>\n",
              "    </tr>\n",
              "    <tr>\n",
              "      <th>6.535742e+00</th>\n",
              "      <td>9.530047e+02</td>\n",
              "      <td>1.538850e+06</td>\n",
              "      <td>1.677054e+02</td>\n",
              "      <td>-7.562558e+05</td>\n",
              "    </tr>\n",
              "    <tr>\n",
              "      <th>6.992216e+00</th>\n",
              "      <td>1.005476e+03</td>\n",
              "      <td>1.151307e+06</td>\n",
              "      <td>3.878701e+01</td>\n",
              "      <td>-9.615158e+05</td>\n",
              "    </tr>\n",
              "    <tr>\n",
              "      <th>7.190084e+00</th>\n",
              "      <td>1.001633e+03</td>\n",
              "      <td>9.475912e+05</td>\n",
              "      <td>-9.117498e+01</td>\n",
              "      <td>-1.107027e+06</td>\n",
              "    </tr>\n",
              "    <tr>\n",
              "      <th>7.426839e+00</th>\n",
              "      <td>9.444515e+02</td>\n",
              "      <td>6.540030e+05</td>\n",
              "      <td>-4.579914e+02</td>\n",
              "      <td>-1.410404e+06</td>\n",
              "    </tr>\n",
              "    <tr>\n",
              "      <th>7.519937e+00</th>\n",
              "      <td>8.874407e+02</td>\n",
              "      <td>5.131861e+05</td>\n",
              "      <td>-8.057161e+02</td>\n",
              "      <td>-1.632662e+06</td>\n",
              "    </tr>\n",
              "    <tr>\n",
              "      <th>7.577766e+00</th>\n",
              "      <td>8.302480e+02</td>\n",
              "      <td>4.128976e+05</td>\n",
              "      <td>-1.212141e+03</td>\n",
              "      <td>-1.851635e+06</td>\n",
              "    </tr>\n",
              "    <tr>\n",
              "      <th>7.609874e+00</th>\n",
              "      <td>7.857121e+02</td>\n",
              "      <td>3.507380e+05</td>\n",
              "      <td>-1.589330e+03</td>\n",
              "      <td>-2.029894e+06</td>\n",
              "    </tr>\n",
              "    <tr>\n",
              "      <th>7.634017e+00</th>\n",
              "      <td>7.424594e+02</td>\n",
              "      <td>2.996173e+05</td>\n",
              "      <td>-2.023902e+03</td>\n",
              "      <td>-2.214646e+06</td>\n",
              "    </tr>\n",
              "    <tr>\n",
              "      <th>7.656706e+00</th>\n",
              "      <td>6.898029e+02</td>\n",
              "      <td>2.467535e+05</td>\n",
              "      <td>-2.672707e+03</td>\n",
              "      <td>-2.461161e+06</td>\n",
              "    </tr>\n",
              "    <tr>\n",
              "      <th>7.675812e+00</th>\n",
              "      <td>6.305907e+02</td>\n",
              "      <td>1.969419e+05</td>\n",
              "      <td>-3.617693e+03</td>\n",
              "      <td>-2.776628e+06</td>\n",
              "    </tr>\n",
              "    <tr>\n",
              "      <th>7.692546e+00</th>\n",
              "      <td>5.582170e+02</td>\n",
              "      <td>1.469854e+05</td>\n",
              "      <td>-5.235328e+03</td>\n",
              "      <td>-3.239075e+06</td>\n",
              "    </tr>\n",
              "    <tr>\n",
              "      <th>7.704430e+00</th>\n",
              "      <td>4.828998e+02</td>\n",
              "      <td>1.052542e+05</td>\n",
              "      <td>-7.805143e+03</td>\n",
              "      <td>-3.851910e+06</td>\n",
              "    </tr>\n",
              "    <tr>\n",
              "      <th>7.711964e+00</th>\n",
              "      <td>4.115259e+02</td>\n",
              "      <td>7.367644e+04</td>\n",
              "      <td>-1.172801e+04</td>\n",
              "      <td>-4.619211e+06</td>\n",
              "    </tr>\n",
              "    <tr>\n",
              "      <th>7.716215e+00</th>\n",
              "      <td>3.520281e+02</td>\n",
              "      <td>5.245446e+04</td>\n",
              "      <td>-1.697670e+04</td>\n",
              "      <td>-5.444869e+06</td>\n",
              "    </tr>\n",
              "    <tr>\n",
              "      <th>7.718902e+00</th>\n",
              "      <td>2.977315e+02</td>\n",
              "      <td>3.672723e+04</td>\n",
              "      <td>-2.443657e+04</td>\n",
              "      <td>-6.333882e+06</td>\n",
              "    </tr>\n",
              "    <tr>\n",
              "      <th>7.720766e+00</th>\n",
              "      <td>2.426325e+02</td>\n",
              "      <td>2.409434e+04</td>\n",
              "      <td>-3.649728e+04</td>\n",
              "      <td>-7.290367e+06</td>\n",
              "    </tr>\n",
              "    <tr>\n",
              "      <th>7.721468e+00</th>\n",
              "      <td>2.139505e+02</td>\n",
              "      <td>1.879361e+04</td>\n",
              "      <td>-4.598256e+04</td>\n",
              "      <td>-7.820608e+06</td>\n",
              "    </tr>\n",
              "    <tr>\n",
              "      <th>7.722044e+00</th>\n",
              "      <td>1.838421e+02</td>\n",
              "      <td>1.411966e+04</td>\n",
              "      <td>-6.032329e+04</td>\n",
              "      <td>-8.494664e+06</td>\n",
              "    </tr>\n",
              "    <tr>\n",
              "      <th>7.722407e+00</th>\n",
              "      <td>1.590675e+02</td>\n",
              "      <td>1.090540e+04</td>\n",
              "      <td>-7.775877e+04</td>\n",
              "      <td>-9.259150e+06</td>\n",
              "    </tr>\n",
              "    <tr>\n",
              "      <th>...</th>\n",
              "      <td>...</td>\n",
              "      <td>...</td>\n",
              "      <td>...</td>\n",
              "      <td>...</td>\n",
              "    </tr>\n",
              "    <tr>\n",
              "      <th>7.723069e+00</th>\n",
              "      <td>7.636603e+01</td>\n",
              "      <td>3.458603e+03</td>\n",
              "      <td>-2.469434e+05</td>\n",
              "      <td>-1.622058e+07</td>\n",
              "    </tr>\n",
              "    <tr>\n",
              "      <th>7.723097e+00</th>\n",
              "      <td>6.893034e+01</td>\n",
              "      <td>2.983792e+03</td>\n",
              "      <td>-2.848604e+05</td>\n",
              "      <td>-1.767376e+07</td>\n",
              "    </tr>\n",
              "    <tr>\n",
              "      <th>7.723126e+00</th>\n",
              "      <td>5.990813e+01</td>\n",
              "      <td>2.443511e+03</td>\n",
              "      <td>-3.444041e+05</td>\n",
              "      <td>-1.988551e+07</td>\n",
              "    </tr>\n",
              "    <tr>\n",
              "      <th>7.723151e+00</th>\n",
              "      <td>5.025770e+01</td>\n",
              "      <td>1.908254e+03</td>\n",
              "      <td>-4.332755e+05</td>\n",
              "      <td>-2.304626e+07</td>\n",
              "    </tr>\n",
              "    <tr>\n",
              "      <th>7.723170e+00</th>\n",
              "      <td>4.085729e+01</td>\n",
              "      <td>1.429261e+03</td>\n",
              "      <td>-5.626122e+05</td>\n",
              "      <td>-2.739543e+07</td>\n",
              "    </tr>\n",
              "    <tr>\n",
              "      <th>7.723178e+00</th>\n",
              "      <td>3.609289e+01</td>\n",
              "      <td>1.202864e+03</td>\n",
              "      <td>-6.552942e+05</td>\n",
              "      <td>-3.035967e+07</td>\n",
              "    </tr>\n",
              "    <tr>\n",
              "      <th>7.723187e+00</th>\n",
              "      <td>2.953801e+01</td>\n",
              "      <td>9.102873e+02</td>\n",
              "      <td>-8.345098e+05</td>\n",
              "      <td>-3.579634e+07</td>\n",
              "    </tr>\n",
              "    <tr>\n",
              "      <th>7.723192e+00</th>\n",
              "      <td>2.493595e+01</td>\n",
              "      <td>7.188199e+02</td>\n",
              "      <td>-1.020193e+06</td>\n",
              "      <td>-4.109111e+07</td>\n",
              "    </tr>\n",
              "    <tr>\n",
              "      <th>7.723195e+00</th>\n",
              "      <td>2.202680e+01</td>\n",
              "      <td>6.042171e+02</td>\n",
              "      <td>-1.180329e+06</td>\n",
              "      <td>-4.542967e+07</td>\n",
              "    </tr>\n",
              "    <tr>\n",
              "      <th>7.723198e+00</th>\n",
              "      <td>1.780732e+01</td>\n",
              "      <td>4.477310e+02</td>\n",
              "      <td>-1.513253e+06</td>\n",
              "      <td>-5.390104e+07</td>\n",
              "    </tr>\n",
              "    <tr>\n",
              "      <th>7.723200e+00</th>\n",
              "      <td>1.338414e+01</td>\n",
              "      <td>2.977793e+02</td>\n",
              "      <td>-2.112147e+06</td>\n",
              "      <td>-6.771453e+07</td>\n",
              "    </tr>\n",
              "    <tr>\n",
              "      <th>7.723202e+00</th>\n",
              "      <td>1.010036e+01</td>\n",
              "      <td>1.976728e+02</td>\n",
              "      <td>-2.943660e+06</td>\n",
              "      <td>-8.474275e+07</td>\n",
              "    </tr>\n",
              "    <tr>\n",
              "      <th>7.723202e+00</th>\n",
              "      <td>7.184923e+00</td>\n",
              "      <td>1.189146e+02</td>\n",
              "      <td>-4.440876e+06</td>\n",
              "      <td>-1.112812e+08</td>\n",
              "    </tr>\n",
              "    <tr>\n",
              "      <th>7.723203e+00</th>\n",
              "      <td>4.956424e+00</td>\n",
              "      <td>6.710551e+01</td>\n",
              "      <td>-7.079994e+06</td>\n",
              "      <td>-1.502833e+08</td>\n",
              "    </tr>\n",
              "    <tr>\n",
              "      <th>7.723203e+00</th>\n",
              "      <td>3.443723e+00</td>\n",
              "      <td>3.751630e+01</td>\n",
              "      <td>-1.145507e+07</td>\n",
              "      <td>-2.028447e+08</td>\n",
              "    </tr>\n",
              "    <tr>\n",
              "      <th>7.723203e+00</th>\n",
              "      <td>2.576624e+00</td>\n",
              "      <td>2.324883e+01</td>\n",
              "      <td>-1.713295e+07</td>\n",
              "      <td>-2.587270e+08</td>\n",
              "    </tr>\n",
              "    <tr>\n",
              "      <th>7.723203e+00</th>\n",
              "      <td>1.876389e+00</td>\n",
              "      <td>1.355765e+01</td>\n",
              "      <td>-2.720519e+07</td>\n",
              "      <td>-3.393970e+08</td>\n",
              "    </tr>\n",
              "    <tr>\n",
              "      <th>7.723203e+00</th>\n",
              "      <td>1.355150e+00</td>\n",
              "      <td>7.660281e+00</td>\n",
              "      <td>-4.479478e+07</td>\n",
              "      <td>-4.508341e+08</td>\n",
              "    </tr>\n",
              "    <tr>\n",
              "      <th>7.723203e+00</th>\n",
              "      <td>9.701525e-01</td>\n",
              "      <td>4.184890e+00</td>\n",
              "      <td>-7.656125e+07</td>\n",
              "      <td>-6.061834e+08</td>\n",
              "    </tr>\n",
              "    <tr>\n",
              "      <th>7.723203e+00</th>\n",
              "      <td>7.230249e-01</td>\n",
              "      <td>2.421210e+00</td>\n",
              "      <td>-1.246875e+08</td>\n",
              "      <td>-7.876980e+08</td>\n",
              "    </tr>\n",
              "    <tr>\n",
              "      <th>7.723203e+00</th>\n",
              "      <td>5.351833e-01</td>\n",
              "      <td>1.360500e+00</td>\n",
              "      <td>-2.078711e+08</td>\n",
              "      <td>-1.028437e+09</td>\n",
              "    </tr>\n",
              "    <tr>\n",
              "      <th>7.723203e+00</th>\n",
              "      <td>3.952623e-01</td>\n",
              "      <td>7.455969e-01</td>\n",
              "      <td>-3.497373e+08</td>\n",
              "      <td>-1.336669e+09</td>\n",
              "    </tr>\n",
              "    <tr>\n",
              "      <th>7.723203e+00</th>\n",
              "      <td>2.872455e-01</td>\n",
              "      <td>3.828331e-01</td>\n",
              "      <td>-6.019507e+08</td>\n",
              "      <td>-1.733723e+09</td>\n",
              "    </tr>\n",
              "    <tr>\n",
              "      <th>7.723203e+00</th>\n",
              "      <td>2.369643e-01</td>\n",
              "      <td>2.495527e-01</td>\n",
              "      <td>-8.270386e+08</td>\n",
              "      <td>-2.000058e+09</td>\n",
              "    </tr>\n",
              "    <tr>\n",
              "      <th>7.723203e+00</th>\n",
              "      <td>1.840131e-01</td>\n",
              "      <td>1.347807e-01</td>\n",
              "      <td>-1.231527e+09</td>\n",
              "      <td>-2.355997e+09</td>\n",
              "    </tr>\n",
              "    <tr>\n",
              "      <th>7.723203e+00</th>\n",
              "      <td>1.394883e-01</td>\n",
              "      <td>5.935224e-02</td>\n",
              "      <td>-1.832171e+09</td>\n",
              "      <td>-2.697634e+09</td>\n",
              "    </tr>\n",
              "    <tr>\n",
              "      <th>7.723203e+00</th>\n",
              "      <td>9.881397e-02</td>\n",
              "      <td>7.876175e-03</td>\n",
              "      <td>-2.772292e+09</td>\n",
              "      <td>-2.928506e+09</td>\n",
              "    </tr>\n",
              "    <tr>\n",
              "      <th>7.723203e+00</th>\n",
              "      <td>5.197844e-02</td>\n",
              "      <td>-3.006628e-02</td>\n",
              "      <td>-4.518383e+09</td>\n",
              "      <td>-2.533831e+09</td>\n",
              "    </tr>\n",
              "    <tr>\n",
              "      <th>7.723203e+00</th>\n",
              "      <td>3.492046e-03</td>\n",
              "      <td>-4.439569e-02</td>\n",
              "      <td>-6.016041e+09</td>\n",
              "      <td>-1.754928e+08</td>\n",
              "    </tr>\n",
              "    <tr>\n",
              "      <th>7.723203e+00</th>\n",
              "      <td>9.199444e-04</td>\n",
              "      <td>-4.443272e-02</td>\n",
              "      <td>-6.024216e+09</td>\n",
              "      <td>-1.330328e+06</td>\n",
              "    </tr>\n",
              "  </tbody>\n",
              "</table>\n",
              "<p>66 rows × 4 columns</p>\n",
              "</div>"
            ],
            "text/plain": [
              "                         x             y            vx            vy\n",
              "0.000000e+00  0.000000e+00  3.389500e+06  0.000000e+00  0.000000e+00\n",
              "1.426428e-08  5.382798e-15  3.389500e+06  7.547240e-07 -9.999997e-04\n",
              "1.569071e-07  6.513185e-13  3.389500e+06  8.301963e-06 -1.100000e-02\n",
              "1.583335e-06  6.632145e-11  3.389500e+06  8.377436e-05 -1.110000e-01\n",
              "1.584762e-05  6.644100e-09  3.389500e+06  8.384983e-04 -1.111000e+00\n",
              "1.584904e-04  6.645297e-07  3.389500e+06  8.385738e-03 -1.111100e+01\n",
              "1.584919e-03  6.645416e-05  3.389500e+06  8.385813e-02 -1.111110e+02\n",
              "1.584920e-02  6.645425e-03  3.389491e+06  8.385814e-01 -1.111113e+03\n",
              "1.584920e-01  6.645141e-01  3.388619e+06  8.385095e+00 -1.111303e+04\n",
              "1.584920e+00  6.615763e+01  3.300671e+06  8.309806e+01 -1.130937e+05\n",
              "5.564448e+00  7.496711e+02  2.148223e+06  2.281673e+02 -5.242154e+05\n",
              "6.535742e+00  9.530047e+02  1.538850e+06  1.677054e+02 -7.562558e+05\n",
              "6.992216e+00  1.005476e+03  1.151307e+06  3.878701e+01 -9.615158e+05\n",
              "7.190084e+00  1.001633e+03  9.475912e+05 -9.117498e+01 -1.107027e+06\n",
              "7.426839e+00  9.444515e+02  6.540030e+05 -4.579914e+02 -1.410404e+06\n",
              "7.519937e+00  8.874407e+02  5.131861e+05 -8.057161e+02 -1.632662e+06\n",
              "7.577766e+00  8.302480e+02  4.128976e+05 -1.212141e+03 -1.851635e+06\n",
              "7.609874e+00  7.857121e+02  3.507380e+05 -1.589330e+03 -2.029894e+06\n",
              "7.634017e+00  7.424594e+02  2.996173e+05 -2.023902e+03 -2.214646e+06\n",
              "7.656706e+00  6.898029e+02  2.467535e+05 -2.672707e+03 -2.461161e+06\n",
              "7.675812e+00  6.305907e+02  1.969419e+05 -3.617693e+03 -2.776628e+06\n",
              "7.692546e+00  5.582170e+02  1.469854e+05 -5.235328e+03 -3.239075e+06\n",
              "7.704430e+00  4.828998e+02  1.052542e+05 -7.805143e+03 -3.851910e+06\n",
              "7.711964e+00  4.115259e+02  7.367644e+04 -1.172801e+04 -4.619211e+06\n",
              "7.716215e+00  3.520281e+02  5.245446e+04 -1.697670e+04 -5.444869e+06\n",
              "7.718902e+00  2.977315e+02  3.672723e+04 -2.443657e+04 -6.333882e+06\n",
              "7.720766e+00  2.426325e+02  2.409434e+04 -3.649728e+04 -7.290367e+06\n",
              "7.721468e+00  2.139505e+02  1.879361e+04 -4.598256e+04 -7.820608e+06\n",
              "7.722044e+00  1.838421e+02  1.411966e+04 -6.032329e+04 -8.494664e+06\n",
              "7.722407e+00  1.590675e+02  1.090540e+04 -7.775877e+04 -9.259150e+06\n",
              "...                    ...           ...           ...           ...\n",
              "7.723069e+00  7.636603e+01  3.458603e+03 -2.469434e+05 -1.622058e+07\n",
              "7.723097e+00  6.893034e+01  2.983792e+03 -2.848604e+05 -1.767376e+07\n",
              "7.723126e+00  5.990813e+01  2.443511e+03 -3.444041e+05 -1.988551e+07\n",
              "7.723151e+00  5.025770e+01  1.908254e+03 -4.332755e+05 -2.304626e+07\n",
              "7.723170e+00  4.085729e+01  1.429261e+03 -5.626122e+05 -2.739543e+07\n",
              "7.723178e+00  3.609289e+01  1.202864e+03 -6.552942e+05 -3.035967e+07\n",
              "7.723187e+00  2.953801e+01  9.102873e+02 -8.345098e+05 -3.579634e+07\n",
              "7.723192e+00  2.493595e+01  7.188199e+02 -1.020193e+06 -4.109111e+07\n",
              "7.723195e+00  2.202680e+01  6.042171e+02 -1.180329e+06 -4.542967e+07\n",
              "7.723198e+00  1.780732e+01  4.477310e+02 -1.513253e+06 -5.390104e+07\n",
              "7.723200e+00  1.338414e+01  2.977793e+02 -2.112147e+06 -6.771453e+07\n",
              "7.723202e+00  1.010036e+01  1.976728e+02 -2.943660e+06 -8.474275e+07\n",
              "7.723202e+00  7.184923e+00  1.189146e+02 -4.440876e+06 -1.112812e+08\n",
              "7.723203e+00  4.956424e+00  6.710551e+01 -7.079994e+06 -1.502833e+08\n",
              "7.723203e+00  3.443723e+00  3.751630e+01 -1.145507e+07 -2.028447e+08\n",
              "7.723203e+00  2.576624e+00  2.324883e+01 -1.713295e+07 -2.587270e+08\n",
              "7.723203e+00  1.876389e+00  1.355765e+01 -2.720519e+07 -3.393970e+08\n",
              "7.723203e+00  1.355150e+00  7.660281e+00 -4.479478e+07 -4.508341e+08\n",
              "7.723203e+00  9.701525e-01  4.184890e+00 -7.656125e+07 -6.061834e+08\n",
              "7.723203e+00  7.230249e-01  2.421210e+00 -1.246875e+08 -7.876980e+08\n",
              "7.723203e+00  5.351833e-01  1.360500e+00 -2.078711e+08 -1.028437e+09\n",
              "7.723203e+00  3.952623e-01  7.455969e-01 -3.497373e+08 -1.336669e+09\n",
              "7.723203e+00  2.872455e-01  3.828331e-01 -6.019507e+08 -1.733723e+09\n",
              "7.723203e+00  2.369643e-01  2.495527e-01 -8.270386e+08 -2.000058e+09\n",
              "7.723203e+00  1.840131e-01  1.347807e-01 -1.231527e+09 -2.355997e+09\n",
              "7.723203e+00  1.394883e-01  5.935224e-02 -1.832171e+09 -2.697634e+09\n",
              "7.723203e+00  9.881397e-02  7.876175e-03 -2.772292e+09 -2.928506e+09\n",
              "7.723203e+00  5.197844e-02 -3.006628e-02 -4.518383e+09 -2.533831e+09\n",
              "7.723203e+00  3.492046e-03 -4.439569e-02 -6.016041e+09 -1.754928e+08\n",
              "7.723203e+00  9.199444e-04 -4.443272e-02 -6.024216e+09 -1.330328e+06\n",
              "\n",
              "[66 rows x 4 columns]"
            ]
          },
          "metadata": {
            "tags": []
          },
          "execution_count": 28
        }
      ]
    },
    {
      "metadata": {
        "id": "C3O8p1srBk2c",
        "colab_type": "code",
        "outputId": "a3bcc3ca-3552-4f45-8687-fecf7d569298",
        "colab": {
          "base_uri": "https://localhost:8080/",
          "height": 397
        }
      },
      "cell_type": "code",
      "source": [
        "plot(results1.x,results1.y)\n",
        "decorate(xlabel='X position (meter)',\n",
        "         ylabel='Y position (m)',\n",
        "         title='Position during launch',\n",
        "         legend=False)"
      ],
      "execution_count": 29,
      "outputs": [
        {
          "output_type": "display_data",
          "data": {
            "image/png": "[encoded data removed]",
            "text/plain": [
              "<matplotlib.figure.Figure at 0x7fbee915cd30>"
            ]
          },
          "metadata": {
            "tags": []
          }
        }
      ]
    },
    {
      "metadata": {
        "id": "6WHyBhZHeuKC",
        "colab_type": "text"
      },
      "cell_type": "markdown",
      "source": [
        "\n",
        "Here we create a function to determine final heigths based off of a given value for thust:\n",
        "\n",
        "\n"
      ]
    },
    {
      "metadata": {
        "id": "u0oEhbhSa6eR",
        "colab_type": "code",
        "colab": {}
      },
      "cell_type": "code",
      "source": [
        "def range_func(thrust, system):  \n",
        "    \"\"\"Computes range for a given launch angle.\n",
        "    \n",
        "    angle: launch angle in degrees\n",
        "    params: Params object\n",
        "    \n",
        "    returns: distance in meters\n",
        "    \"\"\"\n",
        "    state = State(system.init, thrust=thrust*system.thrust_hat)\n",
        "    results, details = run_ode_solver(system, slope_func, events=event_func)\n",
        "    x_dist = get_last_value(results.x)\n",
        "    y_dist = get_last_value(results.y)\n",
        "    d = Vector(x_dist,y_dist)\n",
        "    return d.mag"
      ],
      "execution_count": 0,
      "outputs": []
    },
    {
      "metadata": {
        "id": "EEkdb32bjYYS",
        "colab_type": "text"
      },
      "cell_type": "markdown",
      "source": [
        "Now we sweep through values of thrust:"
      ]
    },
    {
      "metadata": {
        "id": "NtNJBnI7a6bO",
        "colab_type": "code",
        "colab": {}
      },
      "cell_type": "code",
      "source": [
        "thrusts = linspace(10, 8000000, 100)\n",
        "sweep = SweepSeries()\n",
        "\n",
        "for thru in thrusts:\n",
        "    dis = range_func(thru, system)\n",
        "    #print(thru, dis)\n",
        "    sweep[thru] = dis"
      ],
      "execution_count": 0,
      "outputs": []
    },
    {
      "metadata": {
        "id": "7sl_HyLJmTSx",
        "colab_type": "text"
      },
      "cell_type": "markdown",
      "source": [
        "And plot our final results:"
      ]
    },
    {
      "metadata": {
        "id": "g2gZ5ax-a6YW",
        "colab_type": "code",
        "colab": {
          "base_uri": "https://localhost:8080/",
          "height": 397
        },
        "outputId": "7b785a56-5248-472d-ba47-58d3b3d10ad7"
      },
      "cell_type": "code",
      "source": [
        "plot(sweep)\n",
        "decorate(xlabel='Launch Thrust (Newtons)',\n",
        "         ylabel='Range from mars (m)',\n",
        "         title='Range as a function of launch thrust',\n",
        "         legend=False)"
      ],
      "execution_count": 17,
      "outputs": [
        {
          "output_type": "display_data",
          "data": {
            "image/png": "[encoded data removed]",
            "text/plain": [
              "<matplotlib.figure.Figure at 0x7fbee924ef28>"
            ]
          },
          "metadata": {
            "tags": []
          }
        }
      ]
    },
    {
      "metadata": {
        "id": "kiOh8Yrya6Vb",
        "colab_type": "code",
        "colab": {}
      },
      "cell_type": "code",
      "source": [
        ""
      ],
      "execution_count": 0,
      "outputs": []
    },
    {
      "metadata": {
        "id": "wHs0UxWQa6SQ",
        "colab_type": "code",
        "colab": {}
      },
      "cell_type": "code",
      "source": [
        ""
      ],
      "execution_count": 0,
      "outputs": []
    },
    {
      "metadata": {
        "id": "6fMGSHkZa6Ob",
        "colab_type": "code",
        "colab": {}
      },
      "cell_type": "code",
      "source": [
        ""
      ],
      "execution_count": 0,
      "outputs": []
    },
    {
      "metadata": {
        "id": "_HuFP8Kxa6LR",
        "colab_type": "code",
        "colab": {}
      },
      "cell_type": "code",
      "source": [
        ""
      ],
      "execution_count": 0,
      "outputs": []
    },
    {
      "metadata": {
        "id": "J98Pvlyua57u",
        "colab_type": "code",
        "colab": {}
      },
      "cell_type": "code",
      "source": [
        ""
      ],
      "execution_count": 0,
      "outputs": []
    },
    {
      "metadata": {
        "id": "4BfcBsXG6Z5b",
        "colab_type": "text"
      },
      "cell_type": "markdown",
      "source": [
        "Abstract: \n",
        "\n",
        "In this project, we asked: what is the optimal launch angle and thrust are to minimize energy when launching a rocket into orbit on Mars?"
      ]
    },
    {
      "metadata": {
        "id": "NYdm98WsBk4_",
        "colab_type": "code",
        "colab": {}
      },
      "cell_type": "code",
      "source": [
        ""
      ],
      "execution_count": 0,
      "outputs": []
    },
    {
      "metadata": {
        "id": "HN0DV6qy_TCw",
        "colab_type": "code",
        "outputId": "f53bcd07-4578-4602-f72b-ddf7018a7460",
        "colab": {
          "base_uri": "https://localhost:8080/",
          "height": 35
        }
      },
      "cell_type": "code",
      "source": [
        "# Imports\n",
        "from IPython.display import clear_output\n",
        "import os\n",
        "import time\n",
        "\n",
        "# Install Python libraries\n",
        "!pip3 install pandas seaborn sympy beautifulsoup4 lxml pint scipy==1.1.0 numpy\n",
        "\n",
        "# Removes code before re-downloading it\n",
        "!rm -rf ./ModSimPy\n",
        "!rm -rf ./modsim.py\n",
        "\n",
        "# Grabs ModSimPy\n",
        "!git clone https://github.com/AllenDowney/ModSimPy.git\n",
        "!cp \"ModSimPy/code/modsim.py\" .\n",
        "\n",
        "# Resets kernel to flush outdated libraries (especially SciPy)\n",
        "clear_output()\n",
        "print(\"Configured for ModSimPy. Restarting kernel.\")\n",
        "time.sleep(1)\n",
        "os._exit(0)"
      ],
      "execution_count": 0,
      "outputs": [
        {
          "output_type": "stream",
          "text": [
            "Configured for ModSimPy. Restarting kernel.\n"
          ],
          "name": "stdout"
        }
      ]
    },
    {
      "metadata": {
        "id": "fT-YqPw0bxgC",
        "colab_type": "code",
        "colab": {}
      },
      "cell_type": "code",
      "source": [
        ""
      ],
      "execution_count": 0,
      "outputs": []
    },
    {
      "metadata": {
        "id": "xQXeeZAxprN-",
        "colab_type": "code",
        "colab": {}
      },
      "cell_type": "code",
      "source": [
        ""
      ],
      "execution_count": 0,
      "outputs": []
    }
  ]
}