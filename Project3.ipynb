{
  "nbformat": 4,
  "nbformat_minor": 0,
  "metadata": {
    "colab": {
      "name": "Project3.ipynb",
      "version": "0.3.2",
      "provenance": [],
      "collapsed_sections": [],
      "include_colab_link": true
    },
    "kernelspec": {
      "name": "python3",
      "display_name": "Python 3"
    }
  },
  "cells": [
    {
      "cell_type": "markdown",
      "metadata": {
        "id": "view-in-github",
        "colab_type": "text"
      },
      "source": [
        "<a href=\"https://colab.research.google.com/github/robingh42/ModSimPy/blob/master/Project3.ipynb\" target=\"_parent\"><img src=\"https://colab.research.google.com/assets/colab-badge.svg\" alt=\"Open In Colab\"/></a>"
      ]
    },
    {
      "metadata": {
        "id": "6RbyOwGo-y3p",
        "colab_type": "code",
        "colab": {}
      },
      "cell_type": "code",
      "source": [
        "# Configure Jupyter so figures appear in the notebook\n",
        "%matplotlib inline\n",
        "\n",
        "# Configure Jupyter to display the assigned value after an assignment\n",
        "%config InteractiveShell.ast_node_interactivity='last_expr_or_assign'\n",
        "\n",
        "# import functions from the modsim.py module\n",
        "from modsim import *"
      ],
      "execution_count": 0,
      "outputs": []
    },
    {
      "metadata": {
        "id": "IAwGm0-4_Oks",
        "colab_type": "text"
      },
      "cell_type": "markdown",
      "source": [
        "# Mars Satellite Flight:\n",
        "###What Is the minimum energy needed to launch a rocket for a Satellite to reach orbit around Mars\n",
        "By Robin Graham-Hayes and Theo Johnson\n",
        "\n",
        "links: \n",
        "https://en.wikipedia.org/wiki/McDonnell_Douglas_DC-X\n",
        "http://www.astronautix.com/d/dc-x.html\n",
        "https://en.wikipedia.org/wiki/Thrust"
      ]
    },
    {
      "metadata": {
        "id": "EnuUTQkf_Omt",
        "colab_type": "text"
      },
      "cell_type": "markdown",
      "source": [
        ""
      ]
    },
    {
      "metadata": {
        "id": "UFsQ9HYCBkRU",
        "colab_type": "code",
        "colab": {}
      },
      "cell_type": "code",
      "source": [
        "init = State(\n",
        "    force_grav= 3.711 ,#m/s^2\n",
        "    \n",
        "    x=0,\n",
        "    y=3389000, #m,\n",
        "    vx=0 ,\n",
        "    vy=0 ,\n",
        "    thrust_hat=Vector(8,100).hat(),\n",
        "    thrust=thrust_hat*1\n",
        " \n",
        "    )   \n",
        "\n",
        "\n",
        "\n",
        "system = System(\n",
        "    init=init,   \n",
        "    mars_mass= 6.39 * 10**23, #kg\n",
        "    mass_rocket=18900, #kilograms\n",
        "    g_0_mars= 3.711, #m/s^2\n",
        "    C_d= .5    \n",
        "\n",
        "\n",
        "    )\n",
        "\n"
      ],
      "execution_count": 0,
      "outputs": []
    },
    {
      "metadata": {
        "id": "90ByyRnR7S6c",
        "colab_type": "code",
        "colab": {}
      },
      "cell_type": "code",
      "source": [
        ""
      ],
      "execution_count": 0,
      "outputs": []
    },
    {
      "metadata": {
        "id": "o8iYaZfzBkcv",
        "colab_type": "code",
        "colab": {}
      },
      "cell_type": "code",
      "source": [
        "def drag_force(V, system):\n",
        "  \n",
        "    unpack(system)\n",
        "    mag = -pressure(V,system) * V.mag**2 * C_d * area / 2\n",
        "    direction = V.hat()\n",
        "    f_drag = mag * direction\n",
        "    return f_drag"
      ],
      "execution_count": 0,
      "outputs": []
    },
    {
      "metadata": {
        "id": "FILjauJlBkhH",
        "colab_type": "code",
        "colab": {}
      },
      "cell_type": "code",
      "source": [
        "def universal_gravitation(state, system):\n",
        "    \"\"\"Computes gravitational force.\n",
        "    \n",
        "    state: State object with distance r\n",
        "    system: System object with m1, m2, and G\n",
        "    \"\"\"\n",
        "    x, y, vx, vy = state\n",
        "    unpack(system)\n",
        "    \n",
        "    v = Vector(vx,vy)\n",
        "    d = Vector(x,y)\n",
        "   \n",
        "    force_mag = G * m1 * m2 / d.mag**2\n",
        "    \n",
        "    force = d.hat() * force_mag\n",
        "    \n",
        "    return force\n",
        "  "
      ],
      "execution_count": 0,
      "outputs": []
    },
    {
      "metadata": {
        "id": "oiID7OM-Po0U",
        "colab_type": "code",
        "colab": {}
      },
      "cell_type": "code",
      "source": [
        "def external_force(V,system):\n",
        "  unpack(system)\n",
        "  f_ext = drag_force(V, system) + universal_gravitation(V,system)\n",
        "  return f_ext"
      ],
      "execution_count": 0,
      "outputs": []
    },
    {
      "metadata": {
        "id": "UPhO_wJ4BklA",
        "colab_type": "code",
        "colab": {}
      },
      "cell_type": "code",
      "source": [
        "def pressure(V,system):\n",
        "  unpack(system)\n",
        "  p=.699*exp(-.00009*y)\n",
        "  return p"
      ],
      "execution_count": 0,
      "outputs": []
    },
    {
      "metadata": {
        "id": "JgyRJ1f1BkoV",
        "colab_type": "code",
        "colab": {}
      },
      "cell_type": "code",
      "source": [
        "def slope_func(state, t, system):\n",
        "    \"\"\"Computes derivatives of the state variables.\n",
        "    \n",
        "    state: State (x, y, x velocity, y velocity)\n",
        "    t: time\n",
        "    system: System object with g, rho, C_d, area, mass\n",
        "    \n",
        "    returns: sequence (vx, vy, ax, ay)\n",
        "    \"\"\"\n",
        "    x, y, vx, vy = state\n",
        "    unpack(system)\n",
        "\n",
        "    V = Vector(vx, vy)    \n",
        "    a_drag = drag_force(V, system) / mass\n",
        "    a_grav = -universal_gravitation(state, system)\n",
        "    a_rocket = Vector(thrust.x, thrust.y).mag /mass\n",
        "    \n",
        "    a = a_grav + a_drag + a_rocket\n",
        "    \n",
        "    return vx, vy, a.x, a.y"
      ],
      "execution_count": 0,
      "outputs": []
    },
    {
      "metadata": {
        "id": "FuSQDF60Bkr5",
        "colab_type": "code",
        "colab": {}
      },
      "cell_type": "code",
      "source": [
        "\n",
        "def event_func(state, t, system):\n",
        "    x, y, vx, vy = state\n",
        "    \n",
        "    return Thrus \n",
        "  \n",
        "results1, details1 = run_ode_solver(system, slope_func,\n",
        "                                    events=event_func1, max_step=0.1*s)\n",
        "details1\n",
        "  "
      ],
      "execution_count": 0,
      "outputs": []
    },
    {
      "metadata": {
        "id": "9EKFrlCABkvR",
        "colab_type": "code",
        "outputId": "fa630df7-ba86-4801-80dc-58eb20c706ad",
        "colab": {
          "base_uri": "https://localhost:8080/",
          "height": 35
        }
      },
      "cell_type": "code",
      "source": [
        ""
      ],
      "execution_count": 0,
      "outputs": [
        {
          "output_type": "execute_result",
          "data": {
            "text/plain": [
              "-17.097619047619048"
            ]
          },
          "metadata": {
            "tags": []
          },
          "execution_count": 20
        }
      ]
    },
    {
      "metadata": {
        "id": "RsQJnqfZBkyg",
        "colab_type": "code",
        "outputId": "24d8736f-4150-4876-eb40-de5ff8c3f426",
        "colab": {
          "base_uri": "https://localhost:8080/",
          "height": 513
        }
      },
      "cell_type": "code",
      "source": [
        ""
      ],
      "execution_count": 0,
      "outputs": [
        {
          "output_type": "error",
          "ename": "NameError",
          "evalue": "ignored",
          "traceback": [
            "\u001b[0;31m---------------------------------------------------------------------------\u001b[0m",
            "\u001b[0;31mNameError\u001b[0m                                 Traceback (most recent call last)",
            "\u001b[0;32m<ipython-input-21-9b803966069d>\u001b[0m in \u001b[0;36m<module>\u001b[0;34m()\u001b[0m\n\u001b[0;32m----> 1\u001b[0;31m \u001b[0mupdate\u001b[0m\u001b[0;34m(\u001b[0m\u001b[0;36m20000\u001b[0m\u001b[0;34m,\u001b[0m\u001b[0msystem\u001b[0m\u001b[0;34m)\u001b[0m\u001b[0;34m\u001b[0m\u001b[0;34m\u001b[0m\u001b[0m\n\u001b[0m",
            "\u001b[0;32m<ipython-input-19-19e44b5c7df9>\u001b[0m in \u001b[0;36mupdate\u001b[0;34m(V, system)\u001b[0m\n\u001b[1;32m      1\u001b[0m \u001b[0;32mdef\u001b[0m \u001b[0mupdate\u001b[0m\u001b[0;34m(\u001b[0m\u001b[0mV\u001b[0m\u001b[0;34m,\u001b[0m\u001b[0msystem\u001b[0m\u001b[0;34m)\u001b[0m\u001b[0;34m:\u001b[0m\u001b[0;34m\u001b[0m\u001b[0;34m\u001b[0m\u001b[0m\n\u001b[1;32m      2\u001b[0m   \u001b[0munpack\u001b[0m\u001b[0;34m(\u001b[0m\u001b[0msystem\u001b[0m\u001b[0;34m)\u001b[0m\u001b[0;34m\u001b[0m\u001b[0;34m\u001b[0m\u001b[0m\n\u001b[0;32m----> 3\u001b[0;31m   \u001b[0;32mreturn\u001b[0m \u001b[0mmass_full\u001b[0m\u001b[0;34m*\u001b[0m\u001b[0macceleration\u001b[0m\u001b[0;34m(\u001b[0m\u001b[0mV\u001b[0m\u001b[0;34m,\u001b[0m\u001b[0msystem\u001b[0m\u001b[0;34m)\u001b[0m\u001b[0;34m+\u001b[0m\u001b[0mexternal_force\u001b[0m\u001b[0;34m(\u001b[0m\u001b[0mV\u001b[0m\u001b[0;34m,\u001b[0m\u001b[0msystem\u001b[0m\u001b[0;34m)\u001b[0m\u001b[0;34m\u001b[0m\u001b[0;34m\u001b[0m\u001b[0m\n\u001b[0m\u001b[1;32m      4\u001b[0m \u001b[0;34m\u001b[0m\u001b[0m\n\u001b[1;32m      5\u001b[0m \u001b[0;34m\u001b[0m\u001b[0m\n",
            "\u001b[0;32m<ipython-input-17-3a2d4b298e0a>\u001b[0m in \u001b[0;36mexternal_force\u001b[0;34m(V, system)\u001b[0m\n\u001b[1;32m      1\u001b[0m \u001b[0;32mdef\u001b[0m \u001b[0mexternal_force\u001b[0m\u001b[0;34m(\u001b[0m\u001b[0mV\u001b[0m\u001b[0;34m,\u001b[0m\u001b[0msystem\u001b[0m\u001b[0;34m)\u001b[0m\u001b[0;34m:\u001b[0m\u001b[0;34m\u001b[0m\u001b[0;34m\u001b[0m\u001b[0m\n\u001b[1;32m      2\u001b[0m   \u001b[0munpack\u001b[0m\u001b[0;34m(\u001b[0m\u001b[0msystem\u001b[0m\u001b[0;34m)\u001b[0m\u001b[0;34m\u001b[0m\u001b[0;34m\u001b[0m\u001b[0m\n\u001b[0;32m----> 3\u001b[0;31m   \u001b[0mf_ext\u001b[0m \u001b[0;34m=\u001b[0m \u001b[0mdrag_force\u001b[0m\u001b[0;34m(\u001b[0m\u001b[0mV\u001b[0m\u001b[0;34m,\u001b[0m \u001b[0msystem\u001b[0m\u001b[0;34m)\u001b[0m \u001b[0;34m+\u001b[0m \u001b[0mgravity_force\u001b[0m\u001b[0;34m(\u001b[0m\u001b[0mV\u001b[0m\u001b[0;34m,\u001b[0m\u001b[0msystem\u001b[0m\u001b[0;34m)\u001b[0m\u001b[0;34m\u001b[0m\u001b[0;34m\u001b[0m\u001b[0m\n\u001b[0m\u001b[1;32m      4\u001b[0m   \u001b[0;32mreturn\u001b[0m \u001b[0mf_ext\u001b[0m\u001b[0;34m\u001b[0m\u001b[0;34m\u001b[0m\u001b[0m\n",
            "\u001b[0;32m<ipython-input-5-fc5861a8ad31>\u001b[0m in \u001b[0;36mdrag_force\u001b[0;34m(V, system)\u001b[0m\n\u001b[1;32m      8\u001b[0m     \"\"\"\n\u001b[1;32m      9\u001b[0m     \u001b[0munpack\u001b[0m\u001b[0;34m(\u001b[0m\u001b[0msystem\u001b[0m\u001b[0;34m)\u001b[0m\u001b[0;34m\u001b[0m\u001b[0;34m\u001b[0m\u001b[0m\n\u001b[0;32m---> 10\u001b[0;31m     \u001b[0mmag\u001b[0m \u001b[0;34m=\u001b[0m \u001b[0;34m-\u001b[0m\u001b[0mrho\u001b[0m \u001b[0;34m*\u001b[0m \u001b[0mV\u001b[0m\u001b[0;34m.\u001b[0m\u001b[0mmag\u001b[0m\u001b[0;34m**\u001b[0m\u001b[0;36m2\u001b[0m \u001b[0;34m*\u001b[0m \u001b[0mC_d\u001b[0m \u001b[0;34m*\u001b[0m \u001b[0marea\u001b[0m \u001b[0;34m/\u001b[0m \u001b[0;36m2\u001b[0m\u001b[0;34m\u001b[0m\u001b[0;34m\u001b[0m\u001b[0m\n\u001b[0m\u001b[1;32m     11\u001b[0m     \u001b[0mdirection\u001b[0m \u001b[0;34m=\u001b[0m \u001b[0mV\u001b[0m\u001b[0;34m.\u001b[0m\u001b[0mhat\u001b[0m\u001b[0;34m(\u001b[0m\u001b[0;34m)\u001b[0m\u001b[0;34m\u001b[0m\u001b[0;34m\u001b[0m\u001b[0m\n\u001b[1;32m     12\u001b[0m     \u001b[0mf_drag\u001b[0m \u001b[0;34m=\u001b[0m \u001b[0mmag\u001b[0m \u001b[0;34m*\u001b[0m \u001b[0mdirection\u001b[0m\u001b[0;34m\u001b[0m\u001b[0;34m\u001b[0m\u001b[0m\n",
            "\u001b[0;31mNameError\u001b[0m: name 'rho' is not defined"
          ]
        }
      ]
    },
    {
      "metadata": {
        "id": "C3O8p1srBk2c",
        "colab_type": "code",
        "colab": {}
      },
      "cell_type": "code",
      "source": [
        ""
      ],
      "execution_count": 0,
      "outputs": []
    },
    {
      "metadata": {
        "id": "NYdm98WsBk4_",
        "colab_type": "code",
        "colab": {}
      },
      "cell_type": "code",
      "source": [
        ""
      ],
      "execution_count": 0,
      "outputs": []
    },
    {
      "metadata": {
        "id": "HN0DV6qy_TCw",
        "colab_type": "code",
        "outputId": "e21702d6-4ca5-45e2-9d5a-ca0f4a7d9967",
        "colab": {
          "base_uri": "https://localhost:8080/",
          "height": 343
        }
      },
      "cell_type": "code",
      "source": [
        "# Imports\n",
        "from IPython.display import clear_output\n",
        "import os\n",
        "import time\n",
        "\n",
        "# Install Python libraries\n",
        "!pip3 install pandas seaborn sympy beautifulsoup4 lxml pint scipy==1.1.0 numpy\n",
        "\n",
        "# Removes code before re-downloading it\n",
        "!rm -rf ./ModSimPy\n",
        "!rm -rf ./modsim.py\n",
        "\n",
        "# Grabs ModSimPy\n",
        "!git clone https://github.com/AllenDowney/ModSimPy.git\n",
        "!cp \"ModSimPy/code/modsim.py\" .\n",
        "\n",
        "# Resets kernel to flush outdated libraries (especially SciPy)\n",
        "clear_output()\n",
        "print(\"Configured for ModSimPy. Restarting kernel.\")\n",
        "time.sleep(1)\n",
        "os._exit(0)"
      ],
      "execution_count": 0,
      "outputs": [
        {
          "output_type": "stream",
          "text": [
            "Requirement already satisfied: pandas in /usr/local/lib/python3.6/dist-packages (0.22.0)\n",
            "Requirement already satisfied: seaborn in /usr/local/lib/python3.6/dist-packages (0.7.1)\n",
            "Requirement already satisfied: sympy in /usr/local/lib/python3.6/dist-packages (1.1.1)\n",
            "Requirement already satisfied: beautifulsoup4 in /usr/local/lib/python3.6/dist-packages (4.6.3)\n",
            "Requirement already satisfied: lxml in /usr/local/lib/python3.6/dist-packages (4.2.5)\n",
            "Requirement already satisfied: pint in /usr/local/lib/python3.6/dist-packages (0.8.1)\n",
            "Requirement already satisfied: scipy==1.1.0 in /usr/local/lib/python3.6/dist-packages (1.1.0)\n",
            "Requirement already satisfied: numpy in /usr/local/lib/python3.6/dist-packages (1.14.6)\n",
            "Requirement already satisfied: python-dateutil>=2 in /usr/local/lib/python3.6/dist-packages (from pandas) (2.5.3)\n",
            "Requirement already satisfied: pytz>=2011k in /usr/local/lib/python3.6/dist-packages (from pandas) (2018.7)\n",
            "Requirement already satisfied: mpmath>=0.19 in /usr/local/lib/python3.6/dist-packages (from sympy) (1.0.0)\n",
            "Requirement already satisfied: six>=1.5 in /usr/local/lib/python3.6/dist-packages (from python-dateutil>=2->pandas) (1.11.0)\n",
            "Cloning into 'ModSimPy'...\n",
            "remote: Enumerating objects: 1834, done.\u001b[K\n",
            "remote: Total 1834 (delta 0), reused 0 (delta 0), pack-reused 1834\u001b[K\n",
            "Receiving objects: 100% (1834/1834), 56.74 MiB | 27.16 MiB/s, done.\n",
            "Resolving deltas: 100% (1207/1207), done.\n"
          ],
          "name": "stdout"
        }
      ]
    },
    {
      "metadata": {
        "id": "fT-YqPw0bxgC",
        "colab_type": "code",
        "colab": {}
      },
      "cell_type": "code",
      "source": [
        ""
      ],
      "execution_count": 0,
      "outputs": []
    }
  ]
}